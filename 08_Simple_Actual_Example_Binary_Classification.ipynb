{
 "cells": [
  {
   "cell_type": "code",
   "execution_count": 81,
   "id": "c03f98b4-da7f-424f-a93d-7fc00d88a045",
   "metadata": {},
   "outputs": [],
   "source": [
    "import torch\n",
    "import torch.nn as nn\n",
    "import numpy as np\n",
    "import pandas as pd\n",
    "from sklearn.preprocessing import StandardScaler\n",
    "import time\n",
    "\n",
    "device = torch.device(\"cuda\" if torch.cuda.is_available() else \"cpu\")"
   ]
  },
  {
   "cell_type": "code",
   "execution_count": 82,
   "id": "5938e47d-6c33-471d-ba0d-c17258df5779",
   "metadata": {},
   "outputs": [
    {
     "data": {
      "text/plain": [
       "(11430, 89)"
      ]
     },
     "execution_count": 82,
     "metadata": {},
     "output_type": "execute_result"
    }
   ],
   "source": [
    "df_data = pd.read_csv('data/phishing_data/dataset_phishing.csv')\n",
    "df_data.shape"
   ]
  },
  {
   "cell_type": "code",
   "execution_count": 83,
   "id": "bdd3418b-73c6-44be-8391-06d334af150a",
   "metadata": {},
   "outputs": [
    {
     "data": {
      "text/plain": [
       "0        legitimate\n",
       "1          phishing\n",
       "2          phishing\n",
       "3        legitimate\n",
       "4        legitimate\n",
       "            ...    \n",
       "11425    legitimate\n",
       "11426      phishing\n",
       "11427    legitimate\n",
       "11428    legitimate\n",
       "11429      phishing\n",
       "Name: status, Length: 11430, dtype: object"
      ]
     },
     "execution_count": 83,
     "metadata": {},
     "output_type": "execute_result"
    }
   ],
   "source": [
    "df_data['status']"
   ]
  },
  {
   "cell_type": "code",
   "execution_count": 84,
   "id": "c9613d47-8cf5-4ba7-905b-fc1f346a553b",
   "metadata": {},
   "outputs": [
    {
     "data": {
      "text/html": [
       "<div>\n",
       "<style scoped>\n",
       "    .dataframe tbody tr th:only-of-type {\n",
       "        vertical-align: middle;\n",
       "    }\n",
       "\n",
       "    .dataframe tbody tr th {\n",
       "        vertical-align: top;\n",
       "    }\n",
       "\n",
       "    .dataframe thead th {\n",
       "        text-align: right;\n",
       "    }\n",
       "</style>\n",
       "<table border=\"1\" class=\"dataframe\">\n",
       "  <thead>\n",
       "    <tr style=\"text-align: right;\">\n",
       "      <th></th>\n",
       "      <th>url</th>\n",
       "      <th>target</th>\n",
       "    </tr>\n",
       "  </thead>\n",
       "  <tbody>\n",
       "    <tr>\n",
       "      <th>0</th>\n",
       "      <td>http://www.crestonwood.com/router.php</td>\n",
       "      <td>1</td>\n",
       "    </tr>\n",
       "    <tr>\n",
       "      <th>1</th>\n",
       "      <td>http://shadetreetechnology.com/V4/validation/a...</td>\n",
       "      <td>0</td>\n",
       "    </tr>\n",
       "    <tr>\n",
       "      <th>2</th>\n",
       "      <td>https://support-appleld.com.secureupdate.duila...</td>\n",
       "      <td>0</td>\n",
       "    </tr>\n",
       "    <tr>\n",
       "      <th>3</th>\n",
       "      <td>http://rgipt.ac.in</td>\n",
       "      <td>1</td>\n",
       "    </tr>\n",
       "    <tr>\n",
       "      <th>4</th>\n",
       "      <td>http://www.iracing.com/tracks/gateway-motorspo...</td>\n",
       "      <td>1</td>\n",
       "    </tr>\n",
       "  </tbody>\n",
       "</table>\n",
       "</div>"
      ],
      "text/plain": [
       "                                                 url  target\n",
       "0              http://www.crestonwood.com/router.php       1\n",
       "1  http://shadetreetechnology.com/V4/validation/a...       0\n",
       "2  https://support-appleld.com.secureupdate.duila...       0\n",
       "3                                 http://rgipt.ac.in       1\n",
       "4  http://www.iracing.com/tracks/gateway-motorspo...       1"
      ]
     },
     "execution_count": 84,
     "metadata": {},
     "output_type": "execute_result"
    }
   ],
   "source": [
    "# Encoding 'status', as label 1 & 0\n",
    "df_data['target'] = pd.get_dummies(df_data['status'])['legitimate'].astype('int')\n",
    "df_data.drop('status', axis=1, inplace = True)\n",
    "df_data[['url','target']].head()"
   ]
  },
  {
   "cell_type": "code",
   "execution_count": 85,
   "id": "9baeba37-ae1b-4ae0-94f1-a6bb02d14666",
   "metadata": {},
   "outputs": [
    {
     "name": "stdout",
     "output_type": "stream",
     "text": [
      "(8572, 87) (2858, 87)\n",
      "(8572,) (2858,)\n"
     ]
    }
   ],
   "source": [
    "from sklearn.model_selection import train_test_split\n",
    "\n",
    "x = df_data.iloc[:,1:-1]\n",
    "y = df_data['target']\n",
    "\n",
    "x_train, x_test, y_train, y_test = train_test_split(x, y, random_state=42, stratify=y)\n",
    "\n",
    "print(x_train.shape, x_test.shape)\n",
    "print(y_train.shape, y_test.shape)"
   ]
  },
  {
   "cell_type": "code",
   "execution_count": 86,
   "id": "8ef487e4-6731-4e63-b3e5-e6547cf52a29",
   "metadata": {},
   "outputs": [],
   "source": [
    "scaler = StandardScaler()\n",
    "scaler.fit(x_train)\n",
    "x_train_tensor = torch.from_numpy(scaler.transform(x_train)).float().to(device)\n",
    "x_test_tensor = torch.from_numpy(scaler.transform(x_test)).float().to(device)\n",
    "y_train_tensor = torch.from_numpy(y_train.values).float().to(device) # y_train 은 시리즈 형태인데 value형태로 가져오면 numpy로 가져오게  \n",
    "y_train_tensor = y_train_tensor.unsqueeze(1) # 열벡터를 행렬로 변환, 256 87 을 256 1 로 결과를 출력하도록 함\n",
    "y_test_tensor = torch.from_numpy(y_test.values).float().to(device)\n",
    "y_test_tensor = y_test_tensor.unsqueeze(1)"
   ]
  },
  {
   "cell_type": "code",
   "execution_count": 87,
   "id": "74f27a07-0ce8-4b24-afa2-d0c6034a7544",
   "metadata": {},
   "outputs": [],
   "source": [
    "nb_epochs = 1000\n",
    "minibatch_size = 256"
   ]
  },
  {
   "cell_type": "code",
   "execution_count": 88,
   "id": "778e4b57-bba6-4828-a303-086f2526ea89",
   "metadata": {},
   "outputs": [],
   "source": [
    "class FunModel(nn.Module):\n",
    "    def __init__(self, input_dim, output_dim):\n",
    "        super().__init__()\n",
    "\n",
    "        self.linear_layers = nn.Sequential (\n",
    "            nn.Linear(input_dim, 200),\n",
    "            nn.LeakyReLU(0,1),\n",
    "            nn.Linear(200,100),\n",
    "            nn.LeakyReLU(0,1),\n",
    "            nn.Linear(100, 20),\n",
    "            nn.LeakyReLU(0,1),\n",
    "            nn.Linear(20, 5),\n",
    "            nn.LeakyReLU(0,1),\n",
    "            nn.Linear(5, output_dim),\n",
    "            nn.Sigmoid()\n",
    "        ).to(device)\n",
    "\n",
    "    def forward(self, x):\n",
    "        y = self.linear_layers(x)\n",
    "        return y"
   ]
  },
  {
   "cell_type": "code",
   "execution_count": 89,
   "id": "d67b6aaf-dfda-4615-b2f0-03825cc22d29",
   "metadata": {},
   "outputs": [
    {
     "name": "stdout",
     "output_type": "stream",
     "text": [
      "87 1\n"
     ]
    }
   ],
   "source": [
    "input_dim = x_train_tensor.size(-1)\n",
    "output_dim = y_train_tensor.size(-1)\n",
    "print(input_dim, output_dim)\n",
    "model = FunModel(input_dim, output_dim)\n",
    "loss_func = nn.BCELoss() # 반드시 BCELoss() 사용을 위해 마지막은 sigmoid() 함수를 사용해야 한다.\n",
    "optimizer = torch.optim.Adam(model.parameters())"
   ]
  },
  {
   "cell_type": "code",
   "execution_count": 90,
   "id": "740165e2-25e8-4593-ac76-0a76bc1961b6",
   "metadata": {},
   "outputs": [
    {
     "name": "stdout",
     "output_type": "stream",
     "text": [
      "0 tensor(0.5852, device='cuda:0', grad_fn=<DivBackward0>)\n",
      "100 tensor(0.0812, device='cuda:0', grad_fn=<DivBackward0>)\n",
      "200 tensor(0.0804, device='cuda:0', grad_fn=<DivBackward0>)\n",
      "300 tensor(0.0804, device='cuda:0', grad_fn=<DivBackward0>)\n",
      "400 tensor(0.0804, device='cuda:0', grad_fn=<DivBackward0>)\n",
      "500 tensor(0.0804, device='cuda:0', grad_fn=<DivBackward0>)\n",
      "600 tensor(0.0804, device='cuda:0', grad_fn=<DivBackward0>)\n",
      "700 tensor(0.0804, device='cuda:0', grad_fn=<DivBackward0>)\n",
      "800 tensor(0.0804, device='cuda:0', grad_fn=<DivBackward0>)\n",
      "900 tensor(0.0230, device='cuda:0', grad_fn=<DivBackward0>)\n",
      "\n",
      "전체 실행 시간: 53.86초\n"
     ]
    }
   ],
   "source": [
    "start_time = time.time()\n",
    "\n",
    "for index in range(nb_epochs):\n",
    "    indices = torch.randperm(x_train_tensor.size(0), device=device)\n",
    "\n",
    "    x_batch_list = torch.index_select(x_train_tensor, 0 , index = indices)\n",
    "    y_batch_list = torch.index_select(y_train_tensor, 0 , index = indices)\n",
    "    x_batch_list = x_batch_list.split(minibatch_size, 0)\n",
    "    y_batch_list = y_batch_list.split(minibatch_size, 0)\n",
    "\n",
    "    epoch_loss = list()\n",
    "    for x_minibatch, y_minibatch in zip(x_batch_list, y_batch_list):\n",
    "        x_minibatch = x_minibatch.to(device)\n",
    "        y_minibatch = y_minibatch.to(device)\n",
    "\n",
    "        y_minibatch_pred = model(x_minibatch)\n",
    "\n",
    "        loss = loss_func(y_minibatch_pred, y_minibatch)\n",
    "        epoch_loss.append(loss)\n",
    "\n",
    "        optimizer.zero_grad()\n",
    "        loss.backward()\n",
    "        optimizer.step()\n",
    "    if (index % 100) == 0:\n",
    "        print(index, sum(epoch_loss) / len(epoch_loss))\n",
    "\n",
    "end_time = time.time()\n",
    "\n",
    "print(f\"\\n전체 실행 시간: {end_time - start_time:.2f}초\")\n"
   ]
  },
  {
   "cell_type": "code",
   "execution_count": 91,
   "id": "6bb8946b-85c8-48f8-a24f-f4e375f7a501",
   "metadata": {},
   "outputs": [],
   "source": [
    "y_pred_list = []\n",
    "model.eval()\n",
    "with torch.no_grad():\n",
    "    y_test_pred_sigmoid = model(x_test_tensor)\n",
    "    y_test_pred = torch.round(y_test_pred_sigmoid) # torch.round(x)"
   ]
  },
  {
   "cell_type": "code",
   "execution_count": 122,
   "id": "1f65ab45-ce88-4639-935a-4a200b509679",
   "metadata": {},
   "outputs": [],
   "source": [
    "# mini batch isze 기반 예측\n",
    "y_pred_list = list()\n",
    "x_test_batch_list = x_test_tensor.split(minibatch_size, 0)\n",
    "model.eval()\n",
    "with torch.no_grad():\n",
    "    for x_minibatch in x_test_batch_list:\n",
    "        y_test_pred_sigmoid = model(x_minibatch)\n",
    "        y_test_pred = torch.round(y_test_pred_sigmoid)\n",
    "        y_pred_list.extend(y_test_pred.squeeze().detach().tolist())\n",
    "\n",
    "y_pred_list = torch.tensor(y_pred_list).unsqueeze(1)"
   ]
  },
  {
   "cell_type": "code",
   "execution_count": 123,
   "id": "50aca733-385f-4bc0-9e16-f87133e189cd",
   "metadata": {},
   "outputs": [
    {
     "name": "stdout",
     "output_type": "stream",
     "text": [
      "torch.Size([2858, 1]) torch.Size([2858, 1])\n"
     ]
    }
   ],
   "source": [
    "print(y_pred_list.shape, y_test_tensor.shape)"
   ]
  },
  {
   "cell_type": "code",
   "execution_count": null,
   "id": "0ec2714e-6ec5-493a-b119-a25dd4128457",
   "metadata": {},
   "outputs": [],
   "source": []
  },
  {
   "cell_type": "code",
   "execution_count": 126,
   "id": "4ea49eed-3aa5-49c1-be2b-b9d0fda345f0",
   "metadata": {},
   "outputs": [
    {
     "name": "stdout",
     "output_type": "stream",
     "text": [
      "Confusion Matrix\n",
      " [[1366   63]\n",
      " [  62 1367]]\n",
      "Precision:\t0.955944055944056\n",
      "Recall:\t0.9566130160951715\n",
      "F1 Score:\t0.956278419027632\n"
     ]
    }
   ],
   "source": [
    "from sklearn.metrics import confusion_matrix, precision_score, recall_score, f1_score\n",
    "# gpu위에 올라와 있으면 자동으로 numpy로 변환이 안됨. cpu로 올리고 numpy로 수동으로 바꿔줌\n",
    "y_test_tensor = y_test_tensor.cpu().numpy()\n",
    "y_pred_list = y_pred_list.cpu().numpy()\n",
    "\n",
    "\n",
    "print(\"Confusion Matrix\\n\", str(confusion_matrix(y_test_tensor, y_pred_list)))\n",
    "print(\"Precision:\\t\"+str(precision_score(y_test_tensor, y_pred_list)))\n",
    "print(\"Recall:\\t\"+str(recall_score(y_test_tensor, y_pred_list)))\n",
    "print(\"F1 Score:\\t\"+str(f1_score(y_test_tensor, y_pred_list)))"
   ]
  },
  {
   "cell_type": "code",
   "execution_count": null,
   "id": "0fed1903-e22f-48f1-8065-837d8d0357da",
   "metadata": {},
   "outputs": [],
   "source": []
  }
 ],
 "metadata": {
  "kernelspec": {
   "display_name": "Python 3 (ipykernel)",
   "language": "python",
   "name": "python3"
  },
  "language_info": {
   "codemirror_mode": {
    "name": "ipython",
    "version": 3
   },
   "file_extension": ".py",
   "mimetype": "text/x-python",
   "name": "python",
   "nbconvert_exporter": "python",
   "pygments_lexer": "ipython3",
   "version": "3.11.11"
  }
 },
 "nbformat": 4,
 "nbformat_minor": 5
}
