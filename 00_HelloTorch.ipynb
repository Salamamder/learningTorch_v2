{
 "cells": [
  {
   "cell_type": "markdown",
   "id": "a440dade-7913-4b7f-9b11-0d4094ce089b",
   "metadata": {},
   "source": [
    "!conda install pytorch torchvision torchaudio -c pytorch"
   ]
  },
  {
   "cell_type": "code",
   "execution_count": 1,
   "id": "a23529cc-6195-4598-b5ae-44a1cb7f46f3",
   "metadata": {},
   "outputs": [
    {
     "name": "stdout",
     "output_type": "stream",
     "text": [
      "2.5.1+cu118\n"
     ]
    }
   ],
   "source": [
    "import torch\n",
    "\n",
    "print(torch.__version__)"
   ]
  },
  {
   "cell_type": "markdown",
   "id": "5250bbf2-6b7e-4c18-bb3d-a6073e536fd3",
   "metadata": {},
   "source": [
    "scals (0D 텐서)"
   ]
  },
  {
   "cell_type": "code",
   "execution_count": 2,
   "id": "5e9f277c-871e-462e-8cbc-4f1240967f63",
   "metadata": {},
   "outputs": [
    {
     "name": "stdout",
     "output_type": "stream",
     "text": [
      "10 0 ()\n"
     ]
    }
   ],
   "source": [
    "import numpy as np\n",
    "data1 = np.array(10) # 0차원 텐서는 Nimpy로 선언\n",
    "print(data1, data1.ndim, data1.shape) # ndim은 axis축, shape은 행렬의 차원을 의미한다."
   ]
  },
  {
   "cell_type": "markdown",
   "id": "6c062855-fd07-4c4d-b520-58e479e28953",
   "metadata": {},
   "source": [
    "vector (1D 텐서)"
   ]
  },
  {
   "cell_type": "code",
   "execution_count": 5,
   "id": "19e4aee2-09c3-4295-97b6-3e47b84ceae7",
   "metadata": {},
   "outputs": [
    {
     "name": "stdout",
     "output_type": "stream",
     "text": [
      "tensor([1., 2.]) 1 torch.Size([2])\n",
      "tensor([1., 2., 0.]) 1 torch.Size([3])\n"
     ]
    }
   ],
   "source": [
    "import torch\n",
    "data1 = torch.FloatTensor([1,2])# 1, 2 원소를 가진 1D텐서 선언\n",
    "print(data1, data1.dim(), data1.shape)\n",
    "# tensor([1., 2.]) 1 torch.Size([2])\n",
    "# torch size는 크기를 의미\n",
    "\n",
    "data2 = torch.FloatTensor(3) # 임의의 3개의 원소를 가진 1D텐서 선언\n",
    "print(data2, data2.dim(), data2.shape)\n",
    "# tensor([0., 0., 0.]) 1 torch.Size([3])\n",
    "# torch size는 크기를 의미하며 원소가 벡터 원소 3개 -> 사이즈 3"
   ]
  },
  {
   "cell_type": "code",
   "execution_count": 8,
   "id": "ea9e1466-4c35-48a9-a52b-db7277bb4339",
   "metadata": {},
   "outputs": [
    {
     "name": "stdout",
     "output_type": "stream",
     "text": [
      "tensor([[-3.2189e+29,  8.4218e-43],\n",
      "        [ 0.0000e+00,  0.0000e+00],\n",
      "        [ 0.0000e+00,  0.0000e+00]]) 2 torch.Size([3, 2])\n",
      "tensor([[1., 2.],\n",
      "        [3., 4.],\n",
      "        [5., 6.]]) 2 torch.Size([3, 2])\n"
     ]
    }
   ],
   "source": [
    "# matrix (2D 텐서) -> 행렬이라고 많이 부르는거\n",
    "data3 = torch.FloatTensor(3,2) # shape을 기반으로 임의의 원소값을 가진 텐서 선언\n",
    "print(data3, data3.dim(), data3.shape)\n",
    "\n",
    "data4 = torch.FloatTensor([[1, 2],[3, 4],[5, 6]])# 텐서 구조와 원소값을 파이썬 리스트 기반으로 넣어서 해당 텐서 선언\n",
    "print(data4, data4.dim(), data4.shape) # dim()은 축, shape은 행렬의 차원을 의미한다."
   ]
  },
  {
   "cell_type": "code",
   "execution_count": 9,
   "id": "3bde60a4-c906-4ffe-990a-561c4b6bdce5",
   "metadata": {},
   "outputs": [
    {
     "name": "stdout",
     "output_type": "stream",
     "text": [
      "tensor([[[-3.2191e+29],\n",
      "         [ 8.4218e-43]],\n",
      "\n",
      "        [[ 0.0000e+00],\n",
      "         [ 0.0000e+00]],\n",
      "\n",
      "        [[ 0.0000e+00],\n",
      "         [ 0.0000e+00]]]) 3 torch.Size([3, 2, 1])\n",
      "tensor([[[1.],\n",
      "         [2.]],\n",
      "\n",
      "        [[3.],\n",
      "         [4.]],\n",
      "\n",
      "        [[5.],\n",
      "         [6.]]]) 3 torch.Size([3, 2, 1])\n"
     ]
    }
   ],
   "source": [
    "# 3D 텐서 (높이, 넓이, 깊이) => (y, x, z) => (행, 열, 깊이)\n",
    "data5 = torch.FloatTensor(3,2,1) # shape을 기반으로 임의의 원소값을 가진 텐서 선언\n",
    "print(data5, data5.dim(), data5.shape)\n",
    "\n",
    "data6 = torch.FloatTensor([ [ [1], [2], ], [ [3], [4] ], [ [5], [6] ] ]) # 밖에서부터 안쪽으로 3개 2개 1개 원소값으로 선언\n",
    "print(data6, data6.dim(), data6.shape) # dim()은 축, shape은 행렬의 차원을 의미"
   ]
  },
  {
   "cell_type": "code",
   "execution_count": 10,
   "id": "6394609a-975a-4ad1-b078-10ca85e526df",
   "metadata": {},
   "outputs": [
    {
     "name": "stdout",
     "output_type": "stream",
     "text": [
      "tensor([[1.],\n",
      "        [2.],\n",
      "        [3.]]) 2 torch.Size([3, 1])\n",
      "tensor([[1., 2., 3.]]) 2 torch.Size([1, 3])\n"
     ]
    }
   ],
   "source": [
    "# 밖에서부터 안쪽으로 텐서 선언 이해하기\n",
    "data7 = torch.FloatTensor([ [1], [2], [3] ])\n",
    "print(data7, data7.dim(), data7.shape)\n",
    "\n",
    "data8 = torch.FloatTensor([ [1, 2, 3] ])\n",
    "print(data8, data8.dim(), data8.shape)"
   ]
  }
 ],
 "metadata": {
  "kernelspec": {
   "display_name": "Python 3 (ipykernel)",
   "language": "python",
   "name": "python3"
  },
  "language_info": {
   "codemirror_mode": {
    "name": "ipython",
    "version": 3
   },
   "file_extension": ".py",
   "mimetype": "text/x-python",
   "name": "python",
   "nbconvert_exporter": "python",
   "pygments_lexer": "ipython3",
   "version": "3.11.11"
  },
  "widgets": {
   "application/vnd.jupyter.widget-state+json": {
    "state": {},
    "version_major": 2,
    "version_minor": 0
   }
  }
 },
 "nbformat": 4,
 "nbformat_minor": 5
}
