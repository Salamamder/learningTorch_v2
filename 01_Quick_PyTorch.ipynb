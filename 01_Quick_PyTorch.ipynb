{
 "cells": [
  {
   "cell_type": "markdown",
   "id": "d7156765-246c-4b05-8631-758042808597",
   "metadata": {},
   "source": [
    "## Tensor 생성 주요 메서드\n",
    "- torch.zeros(x, y, z): 0의 값으로 shape모양의 텐서 생성\n",
    "- torch.ones(x, y, z): 1값으로 shape 모앵의 텐서 생성\n",
    "- torch.rand(x, y, z): 0부터 1 사이에 균일한 확률 분포로 랜덤한 값을 가진 (x, y) shape의 텐서 생성\n",
    "- torch.full((x, y, z), a): a값으로 shape 모양의 텐서 생성\n",
    "<br><br>\n",
    "- torch.zeros_like(tensor): 인자로 들어간 tensor 객체와 동일 shape 를 가지되, 각 원소값은 0 으로 이루어진 텐서 생성\n",
    "- torch.ones_like(tensor): 인자로 들어간 tensor 객체와 동일 shape 를 가지되, 각 원소값은 0 으로 이루어진 텐서 생성\n",
    "- torch.rand_like(tensor): 0 부터 1 사이에 균일한 확률 분포로 랜덤한 값을 가진 (x, y) shape 의 텐서 생성\n",
    "- torch.randn_like(tensor): 인자로 들어간 tensor 객체와 동일 shape 를 가지되, 각 원소값은 randn() 의 랜덤값으로 채워진 텐서 생성\n",
    "- torch.full_like(tensor, a): 인자로 들어간 tensor 객체와 동일 shape 를 가지되, 각 원소값은 a 값으로 이루어진 텐서 생성\n",
    "<br><br>\n",
    "- torch.empty(x, y, z): 특정 의도로 초기화 되지 않은 값을 가진 (x, y) shape 의 행렬 생성\n",
    "> shape 은 여러 차원이 될 수 있음 \n",
    "> 각 메서드에 dtype=type 인자를 넣어, 데이터 타입 명시 가능"
   ]
  },
  {
   "cell_type": "code",
   "execution_count": 3,
   "id": "1a4e02ee-9566-4e32-bf77-f6006d531003",
   "metadata": {},
   "outputs": [],
   "source": [
    "import torch\n",
    "\n",
    "data1 = torch.zeros(2, dtype=torch.float)\n",
    "data2 = torch.ones(2, 2, dtype=torch.double)\n",
    "data3 = torch.rand(2,2,3, dtype=torch.half) # 16비트 float을 half 라고 함\n",
    "data4 = torch.randn(2,2,3,4) # 자동으로 float 32 형으로 설정 됨\n",
    "data5 = torch.full((2,4), 10)"
   ]
  },
  {
   "cell_type": "code",
   "execution_count": 2,
   "id": "92631572-fd4c-483d-8379-01347aae721d",
   "metadata": {},
   "outputs": [
    {
     "name": "stdout",
     "output_type": "stream",
     "text": [
      "torch.Size([2]) torch.Size([2, 2]) torch.Size([2, 2, 3]) torch.Size([2, 2, 3, 4]) torch.Size([2, 4])\n"
     ]
    }
   ],
   "source": [
    "# 형태 확인\n",
    "print(data1.shape, data2.shape, data3.shape, data4.shape, data5.shape) "
   ]
  },
  {
   "cell_type": "code",
   "execution_count": 3,
   "id": "8a090fe0-bf66-4c9b-94e9-fc9e9e8a4876",
   "metadata": {},
   "outputs": [
    {
     "name": "stdout",
     "output_type": "stream",
     "text": [
      "1 2 3 4 2\n",
      "1 2 3 4 2\n"
     ]
    }
   ],
   "source": [
    "# 배열의 차원을 나타냄\n",
    "print(data1.ndim, data2.ndim, data3.ndim, data4.ndim, data5.ndim)\n",
    "print(data1.dim(), data2.dim(), data3.dim(), data4.dim(), data5.dim()) # dim() 메서드로도 차원값 확인 가능하다."
   ]
  },
  {
   "cell_type": "code",
   "execution_count": 4,
   "id": "a31e67de-a43f-457d-b454-9da0d49cd5a7",
   "metadata": {},
   "outputs": [
    {
     "name": "stdout",
     "output_type": "stream",
     "text": [
      "torch.float32 torch.float64 torch.float16 torch.float32 torch.int64\n"
     ]
    }
   ],
   "source": [
    "# 데이터 타입 확인\n",
    "print(data1.dtype, data2.dtype, data3.dtype, data4.dtype, data5.dtype)"
   ]
  },
  {
   "cell_type": "code",
   "execution_count": 5,
   "id": "99a76f65-d299-449f-a9c4-d203b5fddcec",
   "metadata": {},
   "outputs": [
    {
     "name": "stdout",
     "output_type": "stream",
     "text": [
      "torch.Size([2]) torch.Size([2, 2]) torch.Size([2, 2, 3]) torch.Size([2, 2, 3, 4]) torch.Size([2, 4])\n"
     ]
    }
   ],
   "source": [
    "# 데이터 사이즈(원소의 갯수)확인\n",
    "# numpy와 다르게 size가 아니라 size() 라는 메서드로 제공된다.\n",
    "print(data1.size(), data2.size(), data3.size(), data4.size(), data5.size())"
   ]
  },
  {
   "cell_type": "code",
   "execution_count": 6,
   "id": "eb21da39-4a92-471e-a266-946d456393bd",
   "metadata": {},
   "outputs": [],
   "source": [
    "# 각 원소값을 직접 대입하여 tensor 선언하기\n",
    "data6 = torch.FloatTensor([[1,2],[3,4]])\n",
    "data7 = torch.DoubleTensor([[1,2,3],[4,5,6]])\n",
    "data8 = torch.LongTensor([[1,2,3],[4,5,6],[7,8,9]])\n",
    "\n",
    "# shape 기반으로 tensor 선언하기\n",
    "data9 = torch.FloatTensor(2,3,5)\n",
    "data10 = torch.DoubleTensor(3,3,2,4)\n",
    "data11 = torch.LongTensor(4,4)"
   ]
  },
  {
   "cell_type": "code",
   "execution_count": 10,
   "id": "38982c10-8a86-4ef0-8bfa-11da7060787b",
   "metadata": {},
   "outputs": [
    {
     "data": {
      "text/plain": [
       "tensor([[3941924798592,             0,             0,             0],\n",
       "        [            0,             0,             0,             0],\n",
       "        [            0,             0,             0,             0],\n",
       "        [            0,             0,             0,             0]])"
      ]
     },
     "execution_count": 10,
     "metadata": {},
     "output_type": "execute_result"
    }
   ],
   "source": [
    "data11"
   ]
  },
  {
   "cell_type": "code",
   "execution_count": 11,
   "id": "baefb460-84fa-4b4c-b2f2-40bc26a22f05",
   "metadata": {},
   "outputs": [],
   "source": [
    "# _like()로 tensor생성\n",
    "data12 = torch.full_like(data5, 20)"
   ]
  },
  {
   "cell_type": "code",
   "execution_count": 13,
   "id": "f0edbb77-ebf6-4800-bfa4-03a12155f21c",
   "metadata": {},
   "outputs": [
    {
     "name": "stdout",
     "output_type": "stream",
     "text": [
      "tensor([[10, 10, 10, 10],\n",
      "        [10, 10, 10, 10]])\n",
      "tensor([[20, 20, 20, 20],\n",
      "        [20, 20, 20, 20]])\n"
     ]
    }
   ],
   "source": [
    "# 안의 내용들이 설정된 값(20)으로 바뀐 것을 알 수 있음\n",
    "print(data5)\n",
    "print(data12)"
   ]
  },
  {
   "cell_type": "markdown",
   "id": "77c4f330-4b7a-442c-9fc9-641fa5e6022e",
   "metadata": {},
   "source": [
    "### reshape(): 배열 구조 변경하기"
   ]
  },
  {
   "cell_type": "code",
   "execution_count": 14,
   "id": "91b35d33-bd44-44ec-90cb-093c1df5d1a1",
   "metadata": {},
   "outputs": [
    {
     "name": "stdout",
     "output_type": "stream",
     "text": [
      "tensor([[1., 2., 3.],\n",
      "        [4., 5., 6.]], dtype=torch.float64)\n",
      "tensor([[1., 2.],\n",
      "        [3., 4.],\n",
      "        [5., 6.]], dtype=torch.float64)\n",
      "tensor([[1., 2., 3.],\n",
      "        [4., 5., 6.]], dtype=torch.float64)\n"
     ]
    }
   ],
   "source": [
    "import torch\n",
    "\n",
    "data1 = torch.DoubleTensor([[1,2,3],[4,5,6]])\n",
    "print(data1)\n",
    "data1 = data1.reshape(3,2)\n",
    "print(data1)\n",
    "data1 = data1.reshape(2,-1) # -1은 열은 행의 갯수에 맞춰 자동 계산 하도록 하는 것\n",
    "print(data1)"
   ]
  },
  {
   "cell_type": "markdown",
   "id": "5bba7cb2-3aab-451c-9192-7ce39a78a2ea",
   "metadata": {},
   "source": [
    "### view() : 텐서 구조 변경\n",
    "- pytorch 에서는 numpy 처럼 reshape() 로 배열 구조를 변경할 수 있지만, reshape() 보다 view() 메서드를 보다 많이 사용함\n",
    "- view() 메서드는 reshape() 와 사용법은 동일\n",
    "\n",
    "> 원소 수를 유지하면서 텐서의 크기 변경할 때 많이 사용하며, 매우 중요함!"
   ]
  },
  {
   "cell_type": "markdown",
   "id": "e493d1a8-5fa2-4887-850f-bbd72b8d3add",
   "metadata": {},
   "source": [
    "> 상당히 헷깔리므로, 높이, 너비, 깊이 순서로 순서를 기억하는 편이 좋음 -> 나는 행 열 깊이 로 외우는게 편함\n",
    "\n",
    "<img src=\"https://www.fun-coding.org/00_Images/tensor-R.png\">"
   ]
  },
  {
   "cell_type": "code",
   "execution_count": 20,
   "id": "6222c021-f8c4-4b23-9858-536c3bb6d75c",
   "metadata": {},
   "outputs": [
    {
     "name": "stdout",
     "output_type": "stream",
     "text": [
      "torch.Size([2, 2, 3]) 높이: 2 너비: 2 깊이: 3\n"
     ]
    }
   ],
   "source": [
    "import torch\n",
    "\n",
    "data1 = torch.DoubleTensor([\n",
    "    [[1,2,3],\n",
    "    [4,5,6]],\n",
    "    [[7,8,9],\n",
    "    [10,11,12]]\n",
    "])\n",
    "print(data1.shape, \"높이:\", data1.size(0), \"너비:\", data1.size(1), \"깊이:\", data1.size(2))"
   ]
  },
  {
   "cell_type": "code",
   "execution_count": 22,
   "id": "14e68f10-b4e9-47f2-88a0-5451f67a556b",
   "metadata": {},
   "outputs": [
    {
     "name": "stdout",
     "output_type": "stream",
     "text": [
      "tensor([[ 1.,  2.,  3.,  4.,  5.,  6.],\n",
      "        [ 7.,  8.,  9., 10., 11., 12.]], dtype=torch.float64) torch.Size([2, 6])\n",
      "tensor([[ 1.,  2.,  3.],\n",
      "        [ 4.,  5.,  6.],\n",
      "        [ 7.,  8.,  9.],\n",
      "        [10., 11., 12.]], dtype=torch.float64) torch.Size([4, 3])\n",
      "tensor([[[ 1.,  2.],\n",
      "         [ 3.,  4.]],\n",
      "\n",
      "        [[ 5.,  6.],\n",
      "         [ 7.,  8.]],\n",
      "\n",
      "        [[ 9., 10.],\n",
      "         [11., 12.]]], dtype=torch.float64) torch.Size([3, 2, 2])\n"
     ]
    }
   ],
   "source": [
    "# view 를 통해서 바꾸는 모습, \n",
    "data1 = data1.view(2,-1)\n",
    "print(data1, data1.shape)\n",
    "\n",
    "data1 = data1.view(-1, 3)\n",
    "print(data1, data1.shape)\n",
    "\n",
    "data1 = data1.view(3,2,-1)\n",
    "print(data1, data1.shape)"
   ]
  },
  {
   "cell_type": "markdown",
   "id": "91c55d0c-3b39-442e-ac45-a3edbf3de8ca",
   "metadata": {},
   "source": [
    "### squeeze() : 텐서 차원 압축\n",
    "- 차원이 1인 경우, 해당 차원을 제거"
   ]
  },
  {
   "cell_type": "code",
   "execution_count": 23,
   "id": "2106fa11-e2b5-4f43-a1d6-95cb30b19113",
   "metadata": {},
   "outputs": [
    {
     "name": "stdout",
     "output_type": "stream",
     "text": [
      "tensor([[1.],\n",
      "        [2.],\n",
      "        [3.]]) 2 torch.Size([3, 1])\n",
      "tensor([1., 2., 3.]) 1 torch.Size([3])\n"
     ]
    }
   ],
   "source": [
    "data1 = torch.FloatTensor([[1],[2],[3]])\n",
    "data2 = data1.squeeze()\n",
    "print(data1, data1.dim(), data1.shape)\n",
    "print(data2, data2.dim(), data2.shape)"
   ]
  },
  {
   "cell_type": "markdown",
   "id": "dd0e61f6-b9ce-4f64-a4e7-eadb28efa476",
   "metadata": {},
   "source": [
    " ### unsqueeze() : 특정 위치에 1인 차원을 추가"
   ]
  },
  {
   "cell_type": "code",
   "execution_count": 24,
   "id": "362ba470-3c40-4d2b-b30c-bc417049d31b",
   "metadata": {},
   "outputs": [
    {
     "name": "stdout",
     "output_type": "stream",
     "text": [
      "tensor([[1., 2., 3.],\n",
      "        [4., 5., 6.]]) 2 torch.Size([2, 3])\n"
     ]
    }
   ],
   "source": [
    "data1 = torch.FloatTensor([ [1,2,3], [4,5,6]])\n",
    "print(data1, data1.dim(), data1.shape)"
   ]
  },
  {
   "cell_type": "code",
   "execution_count": 27,
   "id": "7cd59462-368c-4a40-babb-9e9e2b70a1c8",
   "metadata": {},
   "outputs": [
    {
     "name": "stdout",
     "output_type": "stream",
     "text": [
      "tensor([[[1., 2., 3.],\n",
      "         [4., 5., 6.]]]) 3 torch.Size([1, 2, 3])\n",
      "tensor([[[1.],\n",
      "         [2.],\n",
      "         [3.]],\n",
      "\n",
      "        [[4.],\n",
      "         [5.],\n",
      "         [6.]]]) 3 torch.Size([2, 3, 1])\n"
     ]
    }
   ],
   "source": [
    "# 원하는 위치에 1인 차원을 추가하고 나머지는 뒤로 밀리는 구조\n",
    "data2 = data1.unsqueeze(0)\n",
    "data3 = data1.unsqueeze(2)\n",
    "print(data2, data2.dim(), data2.shape)\n",
    "print(data3, data3.dim(), data3.shape)"
   ]
  },
  {
   "cell_type": "code",
   "execution_count": 4,
   "id": "80f45052-ddd5-4984-bad5-c0fbca77f8dc",
   "metadata": {},
   "outputs": [
    {
     "data": {
      "text/plain": [
       "tensor([1, 3])"
      ]
     },
     "execution_count": 4,
     "metadata": {},
     "output_type": "execute_result"
    }
   ],
   "source": [
    "torch.arange(1,5,2)"
   ]
  },
  {
   "cell_type": "markdown",
   "id": "496bbe3b-31f2-4234-9c4e-e87b2085a338",
   "metadata": {},
   "source": [
    "## torch.linspace(start, end, count)"
   ]
  },
  {
   "cell_type": "code",
   "execution_count": 9,
   "id": "88c4903b-f29a-48af-85d0-7d30d60ee622",
   "metadata": {},
   "outputs": [
    {
     "name": "stdout",
     "output_type": "stream",
     "text": [
      "tensor([1.0000, 2.3333, 3.6667, 5.0000])\n",
      "tensor([1.0000, 1.4444, 1.8889, 2.3333, 2.7778, 3.2222, 3.6667, 4.1111, 4.5556,\n",
      "        5.0000])\n"
     ]
    }
   ],
   "source": [
    "print(torch.linspace(1,5,4)) # 균등한 차이를 갖도록 갯수만큼 생성\n",
    "print(torch.linspace(1,5,10))"
   ]
  },
  {
   "cell_type": "code",
   "execution_count": 13,
   "id": "8e4fc7fd-215a-4623-a121-09810a0c215a",
   "metadata": {},
   "outputs": [
    {
     "data": {
      "text/plain": [
       "tensor([[4, 4, 4],\n",
       "        [4, 4, 4],\n",
       "        [4, 4, 4]])"
      ]
     },
     "execution_count": 13,
     "metadata": {},
     "output_type": "execute_result"
    }
   ],
   "source": [
    "a = torch.full((3, 2), 2)\n",
    "b = torch.full((2, 3), 1)\n",
    "torch.matmul(a, b) # 행렬곱 연산"
   ]
  },
  {
   "cell_type": "code",
   "execution_count": 21,
   "id": "c3fd8d24-aabe-4827-a620-a4ecaafb7f2f",
   "metadata": {},
   "outputs": [
    {
     "name": "stdout",
     "output_type": "stream",
     "text": [
      "tensor([[ 1.,  2.,  3.],\n",
      "        [ 4., 10.,  6.]])\n",
      "tensor([[1., 2., 3.],\n",
      "        [4., 5., 6.]])\n"
     ]
    }
   ],
   "source": [
    "# 깊은 복사\n",
    "# .clone().detach() 를 사용하면 된다.\n",
    "# 예시\n",
    "data1 = torch.FloatTensor([[1,2,3],[4,5,6]])\n",
    "data2 = data1[:2,:2]\n",
    "data2[1][1] = 10\n",
    "print(data1)\n",
    "data1 = torch.FloatTensor([[1,2,3],[4,5,6]])\n",
    "data2 = data1[:2,:2].clone().detach()\n",
    "data2[1][1] = 10\n",
    "print(data1) # data1 에는 영향이 없는 것을 볼 수 있다. (깊은 복사 덕분)"
   ]
  },
  {
   "cell_type": "markdown",
   "id": "8206cbab-4dee-4ad8-9a02-a0ae2218e235",
   "metadata": {},
   "source": [
    "clone은 깊은복사 <br>\n",
    "detach는 autograd까지 삭제 (연산과정) <br>\n",
    "(autograd까지 삭제의 의미가 계산기에 연산기록이 남아있는 것과 같음 이걸 삭제해주는 것)\n"
   ]
  },
  {
   "cell_type": "code",
   "execution_count": 26,
   "id": "ce918c14-e0cb-4add-9664-a37e960a19aa",
   "metadata": {},
   "outputs": [
    {
     "name": "stdout",
     "output_type": "stream",
     "text": [
      "(tensor([0, 1]),)\n",
      "tensor([1., 2.])\n"
     ]
    }
   ],
   "source": [
    "data1 = torch.FloatTensor([1,2,3,4,5])\n",
    "index = torch.where(data1<3)\n",
    "print(index) # torch.where()은 해당 조건에 맞는 인덱스를 리턴한다.\n",
    "print(data1[index]) # 인덱스에 해당하는 값을 리턴하는 것을 볼 수 있다."
   ]
  },
  {
   "cell_type": "code",
   "execution_count": 27,
   "id": "756ac919-a5dd-4310-b03b-40b882424359",
   "metadata": {},
   "outputs": [
    {
     "data": {
      "text/plain": [
       "tensor([-1, -1, -1,  1,  1])"
      ]
     },
     "execution_count": 27,
     "metadata": {},
     "output_type": "execute_result"
    }
   ],
   "source": [
    "# 조건에 맞는 다른 값으로 변환하기\n",
    "torch.where(data1>3, 1, -1) # 조건이 참일경우 1 아닐경우 -1을 넣으라고 하는거"
   ]
  },
  {
   "cell_type": "code",
   "execution_count": 32,
   "id": "70a7d598-b670-437e-924c-b61ac2d04869",
   "metadata": {},
   "outputs": [
    {
     "name": "stdout",
     "output_type": "stream",
     "text": [
      "tensor(4)\n",
      "tensor(0)\n",
      "tensor(5.)\n",
      "tensor(1.)\n"
     ]
    }
   ],
   "source": [
    "# argmin : 최소값의 인덱스 번호 리턴\n",
    "# argmax : 최대값의 인덱스 번호 리턴\n",
    "# max, mean, min 등등은 내가 아는 그대로\n",
    "\n",
    "print(data1.argmax())\n",
    "print(data1.argmin())\n",
    "print(data1.max())\n",
    "print(data1.min())"
   ]
  },
  {
   "cell_type": "code",
   "execution_count": null,
   "id": "d927e8af-8a74-4e4c-9831-3d3931fd6db6",
   "metadata": {},
   "outputs": [],
   "source": []
  }
 ],
 "metadata": {
  "kernelspec": {
   "display_name": "Python 3 (ipykernel)",
   "language": "python",
   "name": "python3"
  },
  "language_info": {
   "codemirror_mode": {
    "name": "ipython",
    "version": 3
   },
   "file_extension": ".py",
   "mimetype": "text/x-python",
   "name": "python",
   "nbconvert_exporter": "python",
   "pygments_lexer": "ipython3",
   "version": "3.9.13"
  },
  "widgets": {
   "application/vnd.jupyter.widget-state+json": {
    "state": {},
    "version_major": 2,
    "version_minor": 0
   }
  }
 },
 "nbformat": 4,
 "nbformat_minor": 5
}
