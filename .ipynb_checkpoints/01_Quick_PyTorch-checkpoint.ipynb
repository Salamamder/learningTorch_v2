{
 "cells": [
  {
   "cell_type": "markdown",
   "id": "d7156765-246c-4b05-8631-758042808597",
   "metadata": {},
   "source": [
    "## Tensor 생성 주요 메서드\n",
    "- torch.zeros(x, y, z): 0의 값으로 shape모양의 텐서 생성\n",
    "- torch.ones(x, y, z): 1값으로 shape 모앵의 텐서 생성\n",
    "- torch.rand(x, y, z): 0부터 1 사이에 균일한 확률 분포로 랜덤한 값을 가진 (x, y) shape의 텐서 생성\n",
    "- torch.full((x, y, z), a): a값으로 shape 모양의 텐서 생성\n",
    "<br><br>\n",
    "- torch.zeros_like(tensor): 인자로 들어간 tensor 객체와 동일 shape 를 가지되, 각 원소값은 0 으로 이루어진 텐서 생성\n",
    "- torch.ones_like(tensor): 인자로 들어간 tensor 객체와 동일 shape 를 가지되, 각 원소값은 0 으로 이루어진 텐서 생성\n",
    "- torch.rand_like(tensor): 0 부터 1 사이에 균일한 확률 분포로 랜덤한 값을 가진 (x, y) shape 의 텐서 생성\n",
    "- torch.randn_like(tensor): 인자로 들어간 tensor 객체와 동일 shape 를 가지되, 각 원소값은 randn() 의 랜덤값으로 채워진 텐서 생성\n",
    "- torch.full_like(tensor, a): 인자로 들어간 tensor 객체와 동일 shape 를 가지되, 각 원소값은 a 값으로 이루어진 텐서 생성\n",
    "<br><br>\n",
    "- torch.empty(x, y, z): 특정 의도로 초기화 되지 않은 값을 가진 (x, y) shape 의 행렬 생성\n",
    "> shape 은 여러 차원이 될 수 있음 \n",
    "> 각 메서드에 dtype=type 인자를 넣어, 데이터 타입 명시 가능"
   ]
  },
  {
   "cell_type": "code",
   "execution_count": null,
   "id": "1a4e02ee-9566-4e32-bf77-f6006d531003",
   "metadata": {},
   "outputs": [],
   "source": []
  }
 ],
 "metadata": {
  "kernelspec": {
   "display_name": "Python 3 (ipykernel)",
   "language": "python",
   "name": "python3"
  },
  "language_info": {
   "codemirror_mode": {
    "name": "ipython",
    "version": 3
   },
   "file_extension": ".py",
   "mimetype": "text/x-python",
   "name": "python",
   "nbconvert_exporter": "python",
   "pygments_lexer": "ipython3",
   "version": "3.11.11"
  }
 },
 "nbformat": 4,
 "nbformat_minor": 5
}
