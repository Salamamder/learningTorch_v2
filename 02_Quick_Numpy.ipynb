{
 "cells": [
  {
   "cell_type": "code",
   "execution_count": 1,
   "id": "de8b611e-2d3d-46cf-8dcf-eee9b4feb98b",
   "metadata": {},
   "outputs": [],
   "source": [
    "import numpy as np"
   ]
  },
  {
   "cell_type": "code",
   "execution_count": 2,
   "id": "03be4f2a-8b20-48ee-8913-8b2e09b502c9",
   "metadata": {},
   "outputs": [],
   "source": [
    "data1 = np.array([[1,2,3],[4,5,6]])\n",
    "data2 = np.array([[1,2,3],[4,5,6]])"
   ]
  },
  {
   "cell_type": "code",
   "execution_count": 3,
   "id": "3e3bfe3d-ad5d-49d6-ba7d-7a2e9611136e",
   "metadata": {},
   "outputs": [
    {
     "data": {
      "text/plain": [
       "array([[ 2,  4,  6],\n",
       "       [ 8, 10, 12]])"
      ]
     },
     "execution_count": 3,
     "metadata": {},
     "output_type": "execute_result"
    }
   ],
   "source": [
    "# 넘파이 계산\n",
    "data1 + data2"
   ]
  },
  {
   "cell_type": "code",
   "execution_count": 4,
   "id": "4960bdee-150d-4717-941c-b2c378c65ea3",
   "metadata": {},
   "outputs": [
    {
     "data": {
      "text/plain": [
       "array([[0, 0, 0],\n",
       "       [0, 0, 0]])"
      ]
     },
     "execution_count": 4,
     "metadata": {},
     "output_type": "execute_result"
    }
   ],
   "source": [
    "data1 - data2"
   ]
  },
  {
   "cell_type": "code",
   "execution_count": 5,
   "id": "08038dcd-931f-4c39-84f4-546be21c2d2d",
   "metadata": {},
   "outputs": [
    {
     "data": {
      "text/plain": [
       "array([[ 1,  4,  9],\n",
       "       [16, 25, 36]])"
      ]
     },
     "execution_count": 5,
     "metadata": {},
     "output_type": "execute_result"
    }
   ],
   "source": [
    "data1 * data2"
   ]
  },
  {
   "cell_type": "code",
   "execution_count": 6,
   "id": "c92b2b8c-0c22-4c25-bd16-db56cdd22945",
   "metadata": {},
   "outputs": [
    {
     "data": {
      "text/plain": [
       "array([[1., 1., 1.],\n",
       "       [1., 1., 1.]])"
      ]
     },
     "execution_count": 6,
     "metadata": {},
     "output_type": "execute_result"
    }
   ],
   "source": [
    "data1 / data2"
   ]
  },
  {
   "cell_type": "code",
   "execution_count": 7,
   "id": "786f34ce-27af-476d-bf24-09f56a176a7d",
   "metadata": {},
   "outputs": [
    {
     "data": {
      "text/plain": [
       "array([[0, 0, 0],\n",
       "       [0, 0, 0]])"
      ]
     },
     "execution_count": 7,
     "metadata": {},
     "output_type": "execute_result"
    }
   ],
   "source": [
    "data1 % data2"
   ]
  },
  {
   "cell_type": "code",
   "execution_count": 8,
   "id": "2b3372e8-d745-47e6-9163-bdee216f34aa",
   "metadata": {},
   "outputs": [
    {
     "data": {
      "text/plain": [
       "array([[1, 1, 1],\n",
       "       [1, 1, 1]])"
      ]
     },
     "execution_count": 8,
     "metadata": {},
     "output_type": "execute_result"
    }
   ],
   "source": [
    "data1 // data2"
   ]
  },
  {
   "cell_type": "code",
   "execution_count": 10,
   "id": "cfc544d1-8afc-4f25-a60e-4fc50d70aa80",
   "metadata": {},
   "outputs": [
    {
     "data": {
      "text/plain": [
       "array([[2, 3, 4],\n",
       "       [5, 6, 7]])"
      ]
     },
     "execution_count": 10,
     "metadata": {},
     "output_type": "execute_result"
    }
   ],
   "source": [
    "data1 + 1"
   ]
  },
  {
   "cell_type": "code",
   "execution_count": 15,
   "id": "c2c9f112-bb0c-4587-a3ab-33c878f42bfd",
   "metadata": {},
   "outputs": [
    {
     "data": {
      "text/plain": [
       "array([[2, 3],\n",
       "       [5, 6],\n",
       "       [8, 9]])"
      ]
     },
     "execution_count": 15,
     "metadata": {},
     "output_type": "execute_result"
    }
   ],
   "source": [
    "data2 = np.array([[1,2], [3,4], [5,6]])\n",
    "data3 = np.array([[1],[2],[3]])\n",
    "data2 + data3\n",
    "# 브로드 캐스팅 확"
   ]
  },
  {
   "cell_type": "code",
   "execution_count": 18,
   "id": "f6aeb5fd-e485-4bca-809c-3ce70eb649e9",
   "metadata": {},
   "outputs": [
    {
     "data": {
      "text/plain": [
       "array([[14, 32],\n",
       "       [32, 77]])"
      ]
     },
     "execution_count": 18,
     "metadata": {},
     "output_type": "execute_result"
    }
   ],
   "source": [
    "# 넘파이 행렬 곱셈은 @로 계산\n",
    "data1 @ np.transpose(data1)"
   ]
  },
  {
   "cell_type": "code",
   "execution_count": 24,
   "id": "efa8616d-653b-4153-93f6-53bff0841688",
   "metadata": {},
   "outputs": [
    {
     "data": {
      "text/plain": [
       "array([6])"
      ]
     },
     "execution_count": 24,
     "metadata": {},
     "output_type": "execute_result"
    }
   ],
   "source": [
    "data1[[0, 1]] # 행 선택\n",
    "data1[[1]][:,2] # 1행 2열 선택"
   ]
  },
  {
   "cell_type": "code",
   "execution_count": 27,
   "id": "d9f19141-51ee-4bfb-9752-7a8c459424e4",
   "metadata": {},
   "outputs": [
    {
     "data": {
      "text/plain": [
       "array([5])"
      ]
     },
     "execution_count": 27,
     "metadata": {},
     "output_type": "execute_result"
    }
   ],
   "source": [
    "# 넘파이의 복사\n",
    "# 얕은 복사 -> 슬라이싱 \n",
    "# 깊은 복사 -> 슬라이싱.copy()\n",
    "deep_data = data1[[1]][:,1].copy()\n",
    "deep_data"
   ]
  },
  {
   "cell_type": "code",
   "execution_count": 30,
   "id": "ab7d55d9-341f-42fb-9597-c3c1d200066a",
   "metadata": {},
   "outputs": [
    {
     "data": {
      "text/plain": [
       "array([4, 5, 6])"
      ]
     },
     "execution_count": 30,
     "metadata": {},
     "output_type": "execute_result"
    }
   ],
   "source": [
    "# 넘파이의 where\n",
    "# 조건에 맞는 인덱스 번호를 리턴한다.\n",
    "idx = np.where(data1 > 3) # 인덱스 추출해줌\n",
    "data1[idx]"
   ]
  },
  {
   "cell_type": "code",
   "execution_count": 31,
   "id": "76140b04-9fd8-426e-bd0a-929c8f15224e",
   "metadata": {},
   "outputs": [
    {
     "data": {
      "text/plain": [
       "array([[-1, -1, -1],\n",
       "       [ 1,  1,  1]])"
      ]
     },
     "execution_count": 31,
     "metadata": {},
     "output_type": "execute_result"
    }
   ],
   "source": [
    "np.where(data1>3, 1, -1)"
   ]
  },
  {
   "cell_type": "code",
   "execution_count": 32,
   "id": "78e56d99-b370-4940-8cf4-acaf6ee39608",
   "metadata": {},
   "outputs": [],
   "source": [
    "# 넘파이 저장 방법\n",
    "# np.save('이름', data1) 이렇게 하면 저장이 가능\n",
    "# 읽어오기\n",
    "# np.load('이름(경로)')"
   ]
  },
  {
   "cell_type": "code",
   "execution_count": null,
   "id": "dd391a14-65ec-4175-b3d9-8480c4012e33",
   "metadata": {},
   "outputs": [],
   "source": [
    "# 여러개의 넘파이를 하나로 저장하는 경우\n",
    "# np.savez('이름', five=data1, ten=data2, hundred=data3)\n",
    "# 위의 five ten... 이것들은 임의로 정한 이름들, 다른거 써도 됨\n",
    "# 나중에 데이터 불러와서 data['five'] 이런식으로 확인 가능\n"
   ]
  },
  {
   "cell_type": "code",
   "execution_count": null,
   "id": "d928bd6e-0720-4ba8-9391-3d392e0cd61b",
   "metadata": {},
   "outputs": [],
   "source": [
    "# 3차원 텐서는 k n m 으로 표기 (높이, 행, 열)"
   ]
  },
  {
   "cell_type": "code",
   "execution_count": null,
   "id": "7372e415-841b-444f-8b6c-45be79803e78",
   "metadata": {},
   "outputs": [],
   "source": []
  }
 ],
 "metadata": {
  "kernelspec": {
   "display_name": "Python 3 (ipykernel)",
   "language": "python",
   "name": "python3"
  },
  "language_info": {
   "codemirror_mode": {
    "name": "ipython",
    "version": 3
   },
   "file_extension": ".py",
   "mimetype": "text/x-python",
   "name": "python",
   "nbconvert_exporter": "python",
   "pygments_lexer": "ipython3",
   "version": "3.11.11"
  }
 },
 "nbformat": 4,
 "nbformat_minor": 5
}
