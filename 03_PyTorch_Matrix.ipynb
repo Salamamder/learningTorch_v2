{
 "cells": [
  {
   "cell_type": "code",
   "execution_count": 1,
   "id": "5eb82456-e9f5-4759-8f1e-74d06bbf2390",
   "metadata": {},
   "outputs": [],
   "source": [
    "# 선형대수 과목에서 익힘 -> 텐서에 사용"
   ]
  },
  {
   "cell_type": "markdown",
   "id": "14856081-72f5-4215-8394-a26c70da5d4d",
   "metadata": {},
   "source": [
    "torch.matmul() 메서드는 2D텐서 3D텐서간의 연산만 지원, 일반 matmul()과의 차이점을 알아둘 필요 있음 <br>\n",
    "matmul()은 텐서의 shape등에 따라, 다양한 계산이 가능, broadcasting도 지원하므로, 자칫 예상치못한 연산이 될 수도 있다. <br>\n",
    "디버깅을 위해, 기대한 케이스에 대해서만 명확한 계산을 하는 것이 필요하다면, torch.mm(), torch.bmm() 사용을 고려해야 함"
   ]
  },
  {
   "cell_type": "code",
   "execution_count": 2,
   "id": "b574703e-703f-469d-aa48-e99e43377838",
   "metadata": {},
   "outputs": [],
   "source": [
    "import torch"
   ]
  },
  {
   "cell_type": "code",
   "execution_count": 3,
   "id": "a0e956d4-f2d1-42c2-b808-7c90cd284a9b",
   "metadata": {},
   "outputs": [],
   "source": [
    "A = torch.full((3,), 2) # 벡터 생성\n",
    "B = torch.full((3,), 3) # 벡터 생성"
   ]
  },
  {
   "cell_type": "code",
   "execution_count": 9,
   "id": "1f15ff57-43a8-476d-9373-ed0b659f1c86",
   "metadata": {},
   "outputs": [
    {
     "name": "stdout",
     "output_type": "stream",
     "text": [
      "tensor([2, 2, 2]) 1 torch.Size([3])\n",
      "tensor([3, 3, 3]) 1 torch.Size([3])\n",
      "tensor(18) torch.Size([])\n"
     ]
    }
   ],
   "source": [
    "print(A, A.dim(), A.shape)\n",
    "print(B, B.dim(), B.shape)\n",
    "result = torch.matmul(A,B) # 1차원 텐서의 곱, 각 요소들 곱하고 더하기\n",
    "print(result, result.shape)"
   ]
  },
  {
   "cell_type": "code",
   "execution_count": 11,
   "id": "8a48848f-7309-4402-a66f-fe3563320dea",
   "metadata": {},
   "outputs": [
    {
     "name": "stdout",
     "output_type": "stream",
     "text": [
      "tensor([[18, 18, 18],\n",
      "        [18, 18, 18]])\n"
     ]
    }
   ],
   "source": [
    "# 2차원 텐서의 곱 = 행렬 곱\n",
    "A = torch.full((2,3), 2)\n",
    "B = torch.full((3,3), 3)\n",
    "result = torch.matmul(A,B)\n",
    "print(result)"
   ]
  },
  {
   "cell_type": "code",
   "execution_count": 19,
   "id": "bc6a6110-93c7-4880-bf56-a2070bb90e5e",
   "metadata": {},
   "outputs": [
    {
     "name": "stdout",
     "output_type": "stream",
     "text": [
      "tensor([18, 18])\n",
      "torch.Size([2])\n",
      "1\n"
     ]
    }
   ],
   "source": [
    "# 벡터 X 행열 -> 벡터를 matrix에 맞게 transpose 해준다. (matmul에서 자동으로 해줌)\n",
    "A = torch.full((3,), 2)\n",
    "B = torch.full((3,2), 3)\n",
    "result = torch.matmul(A, B)\n",
    "print(result) # 결과로 벡터가 나옴 1 x 2 형태 행 벡터\n",
    "print(result.size())\n",
    "print(result.ndim)"
   ]
  },
  {
   "cell_type": "code",
   "execution_count": 25,
   "id": "79dd28ca-956f-4287-bd28-0bc0ae517250",
   "metadata": {},
   "outputs": [
    {
     "name": "stdout",
     "output_type": "stream",
     "text": [
      "tensor([[18, 18],\n",
      "        [18, 18],\n",
      "        [18, 18],\n",
      "        [18, 18]])\n",
      "torch.Size([4, 2])\n"
     ]
    }
   ],
   "source": [
    "# 벡터 x 3차원 이상의 텐서 => 뭘까\n",
    "# (a) x (b,c,d) 형태에서 (b,c,d) = b x (c, d)\n",
    "# = (b) x ((a) x (c, d)) => (b) x (d) => (b, d)\n",
    "A = torch.full((3,), 2)\n",
    "B = torch.full((4,3,2),3)\n",
    "result = torch.matmul(A, B)\n",
    "print(result)\n",
    "print(result.shape)"
   ]
  },
  {
   "cell_type": "code",
   "execution_count": 27,
   "id": "9f953f25-8299-4efc-9e8c-2e68bcfb21dd",
   "metadata": {},
   "outputs": [
    {
     "name": "stdout",
     "output_type": "stream",
     "text": [
      "tensor([12, 12, 12])\n",
      "torch.Size([3])\n"
     ]
    }
   ],
   "source": [
    "# 곱셈의 순서도 중요한데 \n",
    "# 행렬 x 벡터 의 경우 위에서 배운 벡터x행렬과는 거의 비슷\n",
    "A = torch.full((3,2), 3)\n",
    "B = torch.full((2,), 2)\n",
    "result = torch.matmul(A, B)\n",
    "print(result)\n",
    "print(result.shape)# (3, 2) x (2, 1) => 3, 1 => (3) 이렇게 된다. (거의 비슷)"
   ]
  },
  {
   "cell_type": "code",
   "execution_count": 28,
   "id": "7b61fe59-bf65-4cdc-8ad5-880414bcd021",
   "metadata": {},
   "outputs": [
    {
     "name": "stdout",
     "output_type": "stream",
     "text": [
      "tensor([[12, 12, 12],\n",
      "        [12, 12, 12],\n",
      "        [12, 12, 12],\n",
      "        [12, 12, 12]])\n",
      "torch.Size([4, 3])\n"
     ]
    }
   ],
   "source": [
    "# 3차원 이상의 텐서\n",
    "A = torch.full((4,3,2), 3)\n",
    "B = torch.full((2,), 2)\n",
    "result = torch.matmul(A, B)\n",
    "print(result)\n",
    "print(result.shape)"
   ]
  },
  {
   "cell_type": "code",
   "execution_count": null,
   "id": "f8614980-ce16-4639-acc6-cf393dc118f9",
   "metadata": {},
   "outputs": [],
   "source": [
    "# 3차원텐서 x 벡터 (설)\n",
    "# (a,b,c) x (d)\n",
    "# a x (b, c) x (d) => 여기서 c와 d가 같아야 계산이 성립함\n",
    "# a x (b, c) x (c,) = a x (b) = (a, b) 이렇게 됨"
   ]
  },
  {
   "cell_type": "code",
   "execution_count": null,
   "id": "0db9a132-c6b1-4c9c-aa27-f4c799730fcb",
   "metadata": {},
   "outputs": [],
   "source": [
    "# torch.mm 행렬 곱만 지원\n",
    "# torch.bmm 3d 텐서 끼리 곱만 지원\n",
    "# 위의 두 개는 브로드캐스팅같은거 지원 x \n",
    "# 장점: 원하지 않는 곱 안해줌\n",
    "# 단점: static하게만 사용 가능"
   ]
  }
 ],
 "metadata": {
  "kernelspec": {
   "display_name": "Python 3 (ipykernel)",
   "language": "python",
   "name": "python3"
  },
  "language_info": {
   "codemirror_mode": {
    "name": "ipython",
    "version": 3
   },
   "file_extension": ".py",
   "mimetype": "text/x-python",
   "name": "python",
   "nbconvert_exporter": "python",
   "pygments_lexer": "ipython3",
   "version": "3.11.11"
  }
 },
 "nbformat": 4,
 "nbformat_minor": 5
}
